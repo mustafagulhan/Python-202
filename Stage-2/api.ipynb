{
  "cells": [
    {
      "cell_type": "markdown",
      "id": "46203544",
      "metadata": {
        "id": "46203544"
      },
      "source": [
        "# Python ile API Etkileşimi: Tüm HTTP Metotları"
      ]
    },
    {
      "cell_type": "markdown",
      "id": "de2963ae",
      "metadata": {
        "id": "de2963ae"
      },
      "source": [
        "## 📖 Bölüm 1: HTTP Metotları Nedir?"
      ]
    },
    {
      "cell_type": "markdown",
      "id": "79d7770e",
      "metadata": {
        "id": "79d7770e"
      },
      "source": [
        "API'lerle etkileşim kurarken, sunucuya ne yapmak istediğimizi belirtmek için farklı **HTTP Metotları (veya fiilleri)** kullanırız. Her metodun belirli bir amacı vardır:\n",
        "\n",
        "- **`GET`**: Sunucudan veri **okumak** veya **almak** için kullanılır. Veriyi değiştirmez.\n",
        "- **`POST`**: Sunucuda yeni bir kaynak **oluşturmak** için kullanılır. (Örn: Yeni bir kullanıcı kaydı, yeni bir blog yazısı).\n",
        "- **`PUT`**: Mevcut bir kaynağı **tamamen güncellemek** veya **değiştirmek** için kullanılır. Kaynağın tüm verisini göndermeniz gerekir.\n",
        "- **`PATCH`**: Mevcut bir kaynağı **kısmen güncellemek** için kullanılır. Sadece değiştirmek istediğiniz alanları gönderirsiniz. `PUT`'a göre daha verimlidir.\n",
        "- **`DELETE`**: Bir kaynağı sunucudan **silmek** için kullanılır."
      ]
    },
    {
      "cell_type": "markdown",
      "id": "4bf3b0ac",
      "metadata": {
        "id": "4bf3b0ac"
      },
      "source": [
        "---"
      ]
    },
    {
      "cell_type": "markdown",
      "id": "54953041",
      "metadata": {
        "id": "54953041"
      },
      "source": [
        "## ⚙️ Bölüm 2: Proje Kurulumu"
      ]
    },
    {
      "cell_type": "code",
      "execution_count": null,
      "id": "b3e629d9",
      "metadata": {
        "colab": {
          "base_uri": "https://localhost:8080/"
        },
        "id": "b3e629d9",
        "outputId": "657dae91-5bab-4a01-e5f4-b3b92c015ebe"
      },
      "outputs": [
        {
          "output_type": "stream",
          "name": "stdout",
          "text": [
            "Kurulum tamamlandı!\n"
          ]
        }
      ],
      "source": [
        "# 1. Proje klasörünü oluşturun ve sanal ortamı aktive edin (uv ile):\n",
        "# mkdir http_methods_projesi\n",
        "# cd http_methods_projesi\n",
        "# %uv venv\n",
        "# %source .venv/bin/activate  # (Windows için: .\\.venv\\Scripts\\activate)\n",
        "\n",
        "# 2. httpx kütüphanesini kuralım:\n",
        "# %uv pip install httpx\n",
        "\n",
        "import httpx\n",
        "import json\n",
        "\n",
        "print(\"Kurulum tamamlandı!\")"
      ]
    },
    {
      "cell_type": "markdown",
      "id": "3ab95eb5",
      "metadata": {
        "id": "3ab95eb5"
      },
      "source": [
        "---"
      ]
    },
    {
      "cell_type": "markdown",
      "id": "bb58206e",
      "metadata": {
        "id": "bb58206e"
      },
      "source": [
        "## 📚 Bölüm 3: `GET` - Sunucudan Veri Okuma"
      ]
    },
    {
      "cell_type": "markdown",
      "id": "b6b7051d",
      "metadata": {
        "id": "b6b7051d"
      },
      "source": [
        "En yaygın metot olan `GET` ile başlayacağız. Open Library API'sini kullanarak yazar ve başlığa göre kitap arayacağız."
      ]
    },
    {
      "cell_type": "code",
      "execution_count": null,
      "id": "f59d90e0",
      "metadata": {
        "colab": {
          "base_uri": "https://localhost:8080/"
        },
        "id": "f59d90e0",
        "outputId": "e7eb1b6f-b131-401b-9ed1-7b5586e40ffa"
      },
      "outputs": [
        {
          "output_type": "stream",
          "name": "stdout",
          "text": [
            "--- GET İsteği: Open Library'den Kitap Arama ---\n",
            "'Dune' için 121 sonuç bulundu.\n",
            "İlk Sonuç: Dune (1965)\n"
          ]
        }
      ],
      "source": [
        "print(\"--- GET İsteği: Open Library'den Kitap Arama ---\")\n",
        "OPEN_LIBRARY_URL = \"https://openlibrary.org/search.json\"\n",
        "params = {\"title\": \"Dune\", \"author\": \"Frank Herbert\", \"limit\": 3}\n",
        "\n",
        "try:\n",
        "    response = httpx.get(OPEN_LIBRARY_URL, params=params)\n",
        "    # raise_for_status(), 4xx veya 5xx durum kodlarında bir hata fırlatır\n",
        "    response.raise_for_status()\n",
        "\n",
        "    data = response.json()\n",
        "    print(f\"'{params['title']}' için {data.get('numFound', 0)} sonuç bulundu.\")\n",
        "    if data.get('docs'):\n",
        "        first_book = data['docs'][0]\n",
        "        print(f\"İlk Sonuç: {first_book.get('title')} ({first_book.get('first_publish_year')})\")\n",
        "except httpx.HTTPStatusError as e:\n",
        "    print(f\"Hata! API yanıtı: {e.response.status_code} - {e.response.text}\")\n",
        "except httpx.RequestError as e:\n",
        "    print(f\"İstek hatası: {e}\")"
      ]
    },
    {
      "cell_type": "markdown",
      "id": "9d430a13",
      "metadata": {
        "id": "9d430a13"
      },
      "source": [
        "---"
      ]
    },
    {
      "cell_type": "markdown",
      "id": "c9a1389a",
      "metadata": {
        "id": "c9a1389a"
      },
      "source": [
        "## ✍️ Bölüm 4: `POST` - Sunucuya Yeni Veri Ekleme"
      ]
    },
    {
      "cell_type": "markdown",
      "id": "b1c0ffac",
      "metadata": {
        "id": "b1c0ffac"
      },
      "source": [
        "Şimdi, bir sunucuya yeni bir kaynak ekleyeceğiz. Bunun için **JSONPlaceholder**'ın `/posts` endpoint'ini kullanacağız ve yeni bir blog yazısı oluşturacağız."
      ]
    },
    {
      "cell_type": "code",
      "execution_count": null,
      "id": "55d36017",
      "metadata": {
        "colab": {
          "base_uri": "https://localhost:8080/"
        },
        "id": "55d36017",
        "outputId": "de8c6497-affa-4a61-b906-245ad3e155bb"
      },
      "outputs": [
        {
          "output_type": "stream",
          "name": "stdout",
          "text": [
            "\n",
            "--- POST İsteği: Yeni Bir Blog Yazısı Oluşturma ---\n",
            "Durum Kodu: 201\n",
            "Oluşturulan Kaynak:\n",
            "{\n",
            "  \"title\": \"Python ve APIlar\",\n",
            "  \"body\": \"httpx k\\u00fct\\u00fcphanesi ile APIlerle \\u00e7al\\u0131\\u015fmak \\u00e7ok kolay.\",\n",
            "  \"userId\": 10,\n",
            "  \"id\": 101\n",
            "}\n"
          ]
        }
      ],
      "source": [
        "print(\"\\n--- POST İsteği: Yeni Bir Blog Yazısı Oluşturma ---\")\n",
        "JSONPLACEHOLDER_URL = \"https://jsonplaceholder.typicode.com\"\n",
        "\n",
        "# Göndereceğimiz yeni yazı verisi\n",
        "new_post = {\n",
        "    'title': 'Python ve APIlar',\n",
        "    'body': 'httpx kütüphanesi ile APIlerle çalışmak çok kolay.',\n",
        "    'userId': 10\n",
        "}\n",
        "\n",
        "response = httpx.post(f\"{JSONPLACEHOLDER_URL}/posts\", json=new_post)\n",
        "\n",
        "print(f\"Durum Kodu: {response.status_code}\") # Başarılı bir POST genellikle '201 Created' döndürür\n",
        "print(\"Oluşturulan Kaynak:\")\n",
        "print(json.dumps(response.json(), indent=2))"
      ]
    },
    {
      "cell_type": "markdown",
      "id": "956019b1",
      "metadata": {
        "id": "956019b1"
      },
      "source": [
        "---"
      ]
    },
    {
      "cell_type": "markdown",
      "id": "cb5ee4af",
      "metadata": {
        "id": "cb5ee4af"
      },
      "source": [
        "## Bölüm 5: `PUT` - Mevcut Veriyi Bütünüyle Güncelleme"
      ]
    },
    {
      "cell_type": "markdown",
      "id": "39d8a79b",
      "metadata": {
        "id": "39d8a79b"
      },
      "source": [
        "`PUT`, mevcut bir kaynağı göndereceğimiz yeni veriyle **tamamen değiştirir**. Yani, sadece başlığı göndermek, body ve userId alanlarının silinmesine neden olur. Kaynağın tümünü göndermelisiniz."
      ]
    },
    {
      "cell_type": "code",
      "execution_count": null,
      "id": "f01e45c2",
      "metadata": {
        "colab": {
          "base_uri": "https://localhost:8080/"
        },
        "id": "f01e45c2",
        "outputId": "6cad5e50-658c-468e-aaaa-3f72a68d007c"
      },
      "outputs": [
        {
          "output_type": "stream",
          "name": "stdout",
          "text": [
            "\n",
            "--- PUT İsteği: Bir Yazıyı Tamamen Güncelleme ---\n",
            "Durum Kodu: 200\n",
            "Güncellenmiş Kaynak:\n",
            "{\n",
            "  \"id\": 1,\n",
            "  \"title\": \"Tamamen G\\u00fcncellenmi\\u015f Ba\\u015fl\\u0131k\",\n",
            "  \"body\": \"Bu i\\u00e7erik PUT metodu ile tamamen de\\u011fi\\u015ftirildi.\",\n",
            "  \"userId\": 1\n",
            "}\n"
          ]
        }
      ],
      "source": [
        "print(\"\\n--- PUT İsteği: Bir Yazıyı Tamamen Güncelleme ---\")\n",
        "post_id_to_update = 1\n",
        "\n",
        "# Kaynağın tüm alanlarını içeren yeni veri\n",
        "updated_post_data = {\n",
        "    'id': post_id_to_update,\n",
        "    'title': 'Tamamen Güncellenmiş Başlık',\n",
        "    'body': 'Bu içerik PUT metodu ile tamamen değiştirildi.',\n",
        "    'userId': 1\n",
        "}\n",
        "\n",
        "response = httpx.put(f\"{JSONPLACEHOLDER_URL}/posts/{post_id_to_update}\", json=updated_post_data)\n",
        "\n",
        "print(f\"Durum Kodu: {response.status_code}\")\n",
        "print(\"Güncellenmiş Kaynak:\")\n",
        "print(json.dumps(response.json(), indent=2))"
      ]
    },
    {
      "cell_type": "markdown",
      "id": "ef6ff8e6",
      "metadata": {
        "id": "ef6ff8e6"
      },
      "source": [
        "---"
      ]
    },
    {
      "cell_type": "markdown",
      "id": "061f7d43",
      "metadata": {
        "id": "061f7d43"
      },
      "source": [
        "## 🩹 Bölüm 6: `PATCH` - Mevcut Veriyi Kısmen Güncelleme"
      ]
    },
    {
      "cell_type": "markdown",
      "id": "6dbfbfd9",
      "metadata": {
        "id": "6dbfbfd9"
      },
      "source": [
        "`PATCH`, bir kaynağın sadece belirli alanlarını güncellemek için kullanılır. Bu, `PUT`'a göre daha verimlidir çünkü tüm veriyi göndermek zorunda kalmazsınız."
      ]
    },
    {
      "cell_type": "code",
      "execution_count": null,
      "id": "c8abdbfd",
      "metadata": {
        "colab": {
          "base_uri": "https://localhost:8080/"
        },
        "id": "c8abdbfd",
        "outputId": "fd889a3f-9f76-45c7-8947-4c4a9ecde1dc"
      },
      "outputs": [
        {
          "output_type": "stream",
          "name": "stdout",
          "text": [
            "\n",
            "--- PATCH İsteği: Bir Yazının Sadece Başlığını Güncelleme ---\n",
            "Durum Kodu: 200\n",
            "Kısmen Güncellenmiş Kaynak:\n",
            "{\n",
            "  \"userId\": 1,\n",
            "  \"id\": 1,\n",
            "  \"title\": \"K\\u0131smen G\\u00fcncellenmi\\u015f Ba\\u015fl\\u0131k (PATCH)\",\n",
            "  \"body\": \"quia et suscipit\\nsuscipit recusandae consequuntur expedita et cum\\nreprehenderit molestiae ut ut quas totam\\nnostrum rerum est autem sunt rem eveniet architecto\"\n",
            "}\n"
          ]
        }
      ],
      "source": [
        "print(\"\\n--- PATCH İsteği: Bir Yazının Sadece Başlığını Güncelleme ---\")\n",
        "post_id_to_patch = 1\n",
        "\n",
        "# Sadece değiştirmek istediğimiz alanı gönderiyoruz\n",
        "patch_data = {'title': 'Kısmen Güncellenmiş Başlık (PATCH)'}\n",
        "\n",
        "response = httpx.patch(f\"{JSONPLACEHOLDER_URL}/posts/{post_id_to_patch}\", json=patch_data)\n",
        "\n",
        "print(f\"Durum Kodu: {response.status_code}\")\n",
        "print(\"Kısmen Güncellenmiş Kaynak:\")\n",
        "print(json.dumps(response.json(), indent=2))"
      ]
    },
    {
      "cell_type": "markdown",
      "id": "00b61251",
      "metadata": {
        "id": "00b61251"
      },
      "source": [
        "---"
      ]
    },
    {
      "cell_type": "markdown",
      "id": "a581b03a",
      "metadata": {
        "id": "a581b03a"
      },
      "source": [
        "## 🗑️ Bölüm 7: `DELETE` - Sunucudan Veri Silme"
      ]
    },
    {
      "cell_type": "markdown",
      "id": "4608d9d3",
      "metadata": {
        "id": "4608d9d3"
      },
      "source": [
        "Son olarak, `DELETE` metodu bir kaynağı sunucudan kalıcı olarak siler."
      ]
    },
    {
      "cell_type": "code",
      "execution_count": null,
      "id": "cf6a4b45",
      "metadata": {
        "colab": {
          "base_uri": "https://localhost:8080/"
        },
        "id": "cf6a4b45",
        "outputId": "9eef56ff-f05d-4d36-ce5a-04aa60d97ae9"
      },
      "outputs": [
        {
          "output_type": "stream",
          "name": "stdout",
          "text": [
            "\n",
            "--- DELETE İsteği: Bir Yazıyı Silme ---\n",
            "Durum Kodu: 200\n",
            "Dönen Yanıt (genellikle boştur):\n",
            "{}\n"
          ]
        }
      ],
      "source": [
        "print(\"\\n--- DELETE İsteği: Bir Yazıyı Silme ---\")\n",
        "post_id_to_delete = 1\n",
        "\n",
        "response = httpx.delete(f\"{JSONPLACEHOLDER_URL}/posts/{post_id_to_delete}\")\n",
        "\n",
        "print(f\"Durum Kodu: {response.status_code}\") # Başarılı silme genellikle '200 OK' döndürür\n",
        "print(\"Dönen Yanıt (genellikle boştur):\")\n",
        "print(response.json()) # Başarılı bir DELETE sonrası yanıt gövdesi genellikle boştur"
      ]
    },
    {
      "cell_type": "markdown",
      "id": "3392c935",
      "metadata": {
        "id": "3392c935"
      },
      "source": [
        "---"
      ]
    },
    {
      "cell_type": "markdown",
      "id": "7882e129",
      "metadata": {
        "id": "7882e129"
      },
      "source": [
        "## 📝 Bölüm 8: Özet"
      ]
    },
    {
      "cell_type": "markdown",
      "id": "7c60a0e4",
      "metadata": {
        "id": "7c60a0e4"
      },
      "source": [
        "| Metot  | Amaç                              | Güvenli* | Idempotent** |\n",
        "|--------|-----------------------------------|----------|--------------|\n",
        "| GET    | Veri okur                         | Evet     | Evet         |\n",
        "| POST   | Yeni veri oluşturur               | Hayır    | Hayır        |\n",
        "| PUT    | Veriyi tamamen değiştirir         | Hayır    | Evet         |\n",
        "| PATCH  | Veriyi kısmen günceller           | Hayır    | Hayır        |\n",
        "| DELETE | Veriyi siler                      | Hayır    | Evet         |\n",
        "\n",
        "**Güvenli:** Metot, sunucudaki durumu değiştirmez.\n",
        "\n",
        "**Idempotent:** Aynı isteği birden çok kez tekrarlamak, ilk istekten farklı bir sonuca yol açmaz."
      ]
    },
    {
      "cell_type": "markdown",
      "source": [
        "# Örnek API Uygulaması"
      ],
      "metadata": {
        "id": "xPG7DgrTfDjo"
      },
      "id": "xPG7DgrTfDjo"
    },
    {
      "cell_type": "code",
      "source": [
        "\"\"\"\n",
        "Python ile API Etkileşimi: Tüm HTTP Metotları\n",
        "Bu dosya, API notebook'undaki tüm kod örneklerini içerir.\n",
        "\"\"\"\n",
        "\n",
        "import httpx\n",
        "import json\n",
        "\n",
        "\n",
        "def main():\n",
        "    \"\"\"Main function demonstrating all HTTP methods.\"\"\"\n",
        "    print(\"=== Python ile API Etkileşimi: HTTP Metotları Demo ===\\n\")\n",
        "\n",
        "    # Setup\n",
        "    print(\"Kurulum tamamlandı!\")\n",
        "\n",
        "    # Demonstrate all HTTP methods\n",
        "    demo_get_request()\n",
        "    demo_post_request()\n",
        "    demo_put_request()\n",
        "    demo_patch_request()\n",
        "    demo_delete_request()\n",
        "\n",
        "    print(\"\\n=== Demo Tamamlandı ===\")\n",
        "\n",
        "\n",
        "def demo_get_request():\n",
        "    \"\"\"Demonstrate GET request - Reading data from server.\"\"\"\n",
        "    print(\"\\n--- GET İsteği: Open Library'den Kitap Arama ---\")\n",
        "    OPEN_LIBRARY_URL = \"https://openlibrary.org/search.json\"\n",
        "    params = {\"title\": \"Dune\", \"author\": \"Frank Herbert\", \"limit\": 3}\n",
        "\n",
        "    try:\n",
        "        response = httpx.get(OPEN_LIBRARY_URL, params=params)\n",
        "        # raise_for_status(), 4xx veya 5xx durum kodlarında bir hata fırlatır\n",
        "        response.raise_for_status()\n",
        "\n",
        "        data = response.json()\n",
        "        print(f\"'{params['title']}' için {data.get('numFound', 0)} sonuç bulundu.\")\n",
        "        if data.get('docs'):\n",
        "            first_book = data['docs'][0]\n",
        "            print(f\"İlk Sonuç: {first_book.get('title')} ({first_book.get('first_publish_year')})\")\n",
        "    except httpx.HTTPStatusError as e:\n",
        "        print(f\"Hata! API yanıtı: {e.response.status_code} - {e.response.text}\")\n",
        "    except httpx.RequestError as e:\n",
        "        print(f\"İstek hatası: {e}\")\n",
        "\n",
        "\n",
        "def demo_post_request():\n",
        "    \"\"\"Demonstrate POST request - Creating new data on server.\"\"\"\n",
        "    print(\"\\n--- POST İsteği: Yeni Bir Blog Yazısı Oluşturma ---\")\n",
        "    JSONPLACEHOLDER_URL = \"https://jsonplaceholder.typicode.com\"\n",
        "\n",
        "    # Göndereceğimiz yeni yazı verisi\n",
        "    new_post = {\n",
        "        'title': 'Python ve APIlar',\n",
        "        'body': 'httpx kütüphanesi ile APIlerle çalışmak çok kolay.',\n",
        "        'userId': 10\n",
        "    }\n",
        "\n",
        "    try:\n",
        "        response = httpx.post(f\"{JSONPLACEHOLDER_URL}/posts\", json=new_post)\n",
        "        response.raise_for_status()\n",
        "\n",
        "        print(f\"Durum Kodu: {response.status_code}\")  # Başarılı bir POST genellikle '201 Created' döndürür\n",
        "        print(\"Oluşturulan Kaynak:\")\n",
        "        print(json.dumps(response.json(), indent=2, ensure_ascii=False))\n",
        "    except httpx.HTTPStatusError as e:\n",
        "        print(f\"POST Hatası: {e.response.status_code} - {e.response.text}\")\n",
        "    except httpx.RequestError as e:\n",
        "        print(f\"İstek hatası: {e}\")\n",
        "\n",
        "\n",
        "def demo_put_request():\n",
        "    \"\"\"Demonstrate PUT request - Completely updating existing data.\"\"\"\n",
        "    print(\"\\n--- PUT İsteği: Bir Yazıyı Tamamen Güncelleme ---\")\n",
        "    JSONPLACEHOLDER_URL = \"https://jsonplaceholder.typicode.com\"\n",
        "    post_id_to_update = 1\n",
        "\n",
        "    # Kaynağın tüm alanlarını içeren yeni veri\n",
        "    updated_post_data = {\n",
        "        'id': post_id_to_update,\n",
        "        'title': 'Tamamen Güncellenmiş Başlık',\n",
        "        'body': 'Bu içerik PUT metodu ile tamamen değiştirildi.',\n",
        "        'userId': 1\n",
        "    }\n",
        "\n",
        "    try:\n",
        "        response = httpx.put(f\"{JSONPLACEHOLDER_URL}/posts/{post_id_to_update}\", json=updated_post_data)\n",
        "        response.raise_for_status()\n",
        "\n",
        "        print(f\"Durum Kodu: {response.status_code}\")\n",
        "        print(\"Güncellenmiş Kaynak:\")\n",
        "        print(json.dumps(response.json(), indent=2, ensure_ascii=False))\n",
        "    except httpx.HTTPStatusError as e:\n",
        "        print(f\"PUT Hatası: {e.response.status_code} - {e.response.text}\")\n",
        "    except httpx.RequestError as e:\n",
        "        print(f\"İstek hatası: {e}\")\n",
        "\n",
        "\n",
        "def demo_patch_request():\n",
        "    \"\"\"Demonstrate PATCH request - Partially updating existing data.\"\"\"\n",
        "    print(\"\\n--- PATCH İsteği: Bir Yazının Sadece Başlığını Güncelleme ---\")\n",
        "    JSONPLACEHOLDER_URL = \"https://jsonplaceholder.typicode.com\"\n",
        "    post_id_to_patch = 1\n",
        "\n",
        "    # Sadece değiştirmek istediğimiz alanı gönderiyoruz\n",
        "    patch_data = {'title': 'Kısmen Güncellenmiş Başlık (PATCH)'}\n",
        "\n",
        "    try:\n",
        "        response = httpx.patch(f\"{JSONPLACEHOLDER_URL}/posts/{post_id_to_patch}\", json=patch_data)\n",
        "        response.raise_for_status()\n",
        "\n",
        "        print(f\"Durum Kodu: {response.status_code}\")\n",
        "        print(\"Kısmen Güncellenmiş Kaynak:\")\n",
        "        print(json.dumps(response.json(), indent=2, ensure_ascii=False))\n",
        "    except httpx.HTTPStatusError as e:\n",
        "        print(f\"PATCH Hatası: {e.response.status_code} - {e.response.text}\")\n",
        "    except httpx.RequestError as e:\n",
        "        print(f\"İstek hatası: {e}\")\n",
        "\n",
        "\n",
        "def demo_delete_request():\n",
        "    \"\"\"Demonstrate DELETE request - Removing data from server.\"\"\"\n",
        "    print(\"\\n--- DELETE İsteği: Bir Yazıyı Silme ---\")\n",
        "    JSONPLACEHOLDER_URL = \"https://jsonplaceholder.typicode.com\"\n",
        "    post_id_to_delete = 1\n",
        "\n",
        "    try:\n",
        "        response = httpx.delete(f\"{JSONPLACEHOLDER_URL}/posts/{post_id_to_delete}\")\n",
        "        response.raise_for_status()\n",
        "\n",
        "        print(f\"Durum Kodu: {response.status_code}\")  # Başarılı silme genellikle '200 OK' döndürür\n",
        "        print(\"Dönen Yanıt (genellikle boştur):\")\n",
        "        print(response.json())  # Başarılı bir DELETE sonrası yanıt gövdesi genellikle boştur\n",
        "    except httpx.HTTPStatusError as e:\n",
        "        print(f\"DELETE Hatası: {e.response.status_code} - {e.response.text}\")\n",
        "    except httpx.RequestError as e:\n",
        "        print(f\"İstek hatası: {e}\")\n",
        "\n",
        "\n",
        "def test_all_methods():\n",
        "    \"\"\"Test function to verify all HTTP methods work correctly.\"\"\"\n",
        "    print(\"\\n=== Testing All HTTP Methods ===\")\n",
        "\n",
        "    try:\n",
        "        # Test GET\n",
        "        response = httpx.get(\"https://jsonplaceholder.typicode.com/posts/1\")\n",
        "        assert response.status_code == 200\n",
        "        print(\"✅ GET test passed\")\n",
        "\n",
        "        # Test POST\n",
        "        response = httpx.post(\"https://jsonplaceholder.typicode.com/posts\",\n",
        "                             json={\"title\": \"test\", \"body\": \"test\", \"userId\": 1})\n",
        "        assert response.status_code == 201\n",
        "        print(\"✅ POST test passed\")\n",
        "\n",
        "        # Test PUT\n",
        "        response = httpx.put(\"https://jsonplaceholder.typicode.com/posts/1\",\n",
        "                            json={\"id\": 1, \"title\": \"test\", \"body\": \"test\", \"userId\": 1})\n",
        "        assert response.status_code == 200\n",
        "        print(\"✅ PUT test passed\")\n",
        "\n",
        "        # Test PATCH\n",
        "        response = httpx.patch(\"https://jsonplaceholder.typicode.com/posts/1\",\n",
        "                              json={\"title\": \"updated\"})\n",
        "        assert response.status_code == 200\n",
        "        print(\"✅ PATCH test passed\")\n",
        "\n",
        "        # Test DELETE\n",
        "        response = httpx.delete(\"https://jsonplaceholder.typicode.com/posts/1\")\n",
        "        assert response.status_code == 200\n",
        "        print(\"✅ DELETE test passed\")\n",
        "\n",
        "        print(\"🎉 All HTTP methods work correctly!\")\n",
        "\n",
        "    except Exception as e:\n",
        "        print(f\"❌ Test failed: {e}\")\n",
        "\n",
        "\n",
        "def demonstrate_error_handling():\n",
        "    \"\"\"Demonstrate proper error handling with HTTP requests.\"\"\"\n",
        "    print(\"\\n=== Error Handling Demo ===\")\n",
        "\n",
        "    # Test with invalid URL\n",
        "    try:\n",
        "        response = httpx.get(\"https://invalid-url-that-does-not-exist.com\")\n",
        "        response.raise_for_status()\n",
        "    except httpx.RequestError as e:\n",
        "        print(f\"✅ Caught network error as expected: {type(e).__name__}\")\n",
        "\n",
        "    # Test with 404 error\n",
        "    try:\n",
        "        response = httpx.get(\"https://jsonplaceholder.typicode.com/posts/99999\")\n",
        "        response.raise_for_status()\n",
        "    except httpx.HTTPStatusError as e:\n",
        "        print(f\"✅ Caught HTTP error as expected: {e.response.status_code}\")\n",
        "\n",
        "    print(\"Error handling works correctly!\")\n",
        "\n",
        "\n",
        "def demonstrate_advanced_features():\n",
        "    \"\"\"Demonstrate advanced httpx features.\"\"\"\n",
        "    print(\"\\n=== Advanced HTTP Features ===\")\n",
        "\n",
        "    # Custom headers\n",
        "    headers = {\n",
        "        \"User-Agent\": \"Python HTTP Demo/1.0\",\n",
        "        \"Accept\": \"application/json\",\n",
        "        \"Content-Type\": \"application/json\"\n",
        "    }\n",
        "\n",
        "    # Timeout configuration\n",
        "    timeout = httpx.Timeout(10.0)\n",
        "\n",
        "    # Using context manager for automatic resource cleanup\n",
        "    with httpx.Client(headers=headers, timeout=timeout) as client:\n",
        "        response = client.get(\"https://jsonplaceholder.typicode.com/posts/1\")\n",
        "        print(f\"Response with custom headers: {response.status_code}\")\n",
        "        print(f\"Content-Type: {response.headers.get('content-type')}\")\n",
        "\n",
        "    print(\"✅ Advanced features demonstrated\")\n",
        "\n",
        "\n",
        "def show_http_methods_summary():\n",
        "    \"\"\"Display summary table of HTTP methods.\"\"\"\n",
        "    print(\"\\n=== HTTP Metotları Özeti ===\")\n",
        "    print(\"| Metot  | Amaç                              | Güvenli* | Idempotent** |\")\n",
        "    print(\"|--------|-----------------------------------|----------|--------------|\")\n",
        "    print(\"| GET    | Veri okur                         | Evet     | Evet         |\")\n",
        "    print(\"| POST   | Yeni veri oluşturur               | Hayır    | Hayır        |\")\n",
        "    print(\"| PUT    | Veriyi tamamen değiştirir         | Hayır    | Evet         |\")\n",
        "    print(\"| PATCH  | Veriyi kısmen günceller           | Hayır    | Hayır        |\")\n",
        "    print(\"| DELETE | Veriyi siler                      | Hayır    | Evet         |\")\n",
        "    print(\"\\n*Güvenli: Metot, sunucudaki durumu değiştirmez.\")\n",
        "    print(\"**Idempotent: Aynı isteği birden çok kez tekrarlamak, ilk istekten farklı bir sonuca yol açmaz.\")\n",
        "\n",
        "\n",
        "if __name__ == \"__main__\":\n",
        "    # Run the main demo\n",
        "    main()\n",
        "\n",
        "    # Run tests\n",
        "    test_all_methods()\n",
        "\n",
        "    # Demonstrate error handling\n",
        "    demonstrate_error_handling()\n",
        "\n",
        "    # Show advanced features\n",
        "    demonstrate_advanced_features()\n",
        "\n",
        "    # Show summary\n",
        "    show_http_methods_summary()"
      ],
      "metadata": {
        "colab": {
          "base_uri": "https://localhost:8080/"
        },
        "id": "7Y6jxgoBfGGn",
        "outputId": "dbdd9a2b-eaf9-4139-9c8d-3e1fb6bbcb30"
      },
      "id": "7Y6jxgoBfGGn",
      "execution_count": null,
      "outputs": [
        {
          "output_type": "stream",
          "name": "stdout",
          "text": [
            "=== Python ile API Etkileşimi: HTTP Metotları Demo ===\n",
            "\n",
            "Kurulum tamamlandı!\n",
            "\n",
            "--- GET İsteği: Open Library'den Kitap Arama ---\n",
            "'Dune' için 121 sonuç bulundu.\n",
            "İlk Sonuç: Dune (1965)\n",
            "\n",
            "--- POST İsteği: Yeni Bir Blog Yazısı Oluşturma ---\n",
            "Durum Kodu: 201\n",
            "Oluşturulan Kaynak:\n",
            "{\n",
            "  \"title\": \"Python ve APIlar\",\n",
            "  \"body\": \"httpx kütüphanesi ile APIlerle çalışmak çok kolay.\",\n",
            "  \"userId\": 10,\n",
            "  \"id\": 101\n",
            "}\n",
            "\n",
            "--- PUT İsteği: Bir Yazıyı Tamamen Güncelleme ---\n",
            "Durum Kodu: 200\n",
            "Güncellenmiş Kaynak:\n",
            "{\n",
            "  \"id\": 1,\n",
            "  \"title\": \"Tamamen Güncellenmiş Başlık\",\n",
            "  \"body\": \"Bu içerik PUT metodu ile tamamen değiştirildi.\",\n",
            "  \"userId\": 1\n",
            "}\n",
            "\n",
            "--- PATCH İsteği: Bir Yazının Sadece Başlığını Güncelleme ---\n",
            "Durum Kodu: 200\n",
            "Kısmen Güncellenmiş Kaynak:\n",
            "{\n",
            "  \"userId\": 1,\n",
            "  \"id\": 1,\n",
            "  \"title\": \"Kısmen Güncellenmiş Başlık (PATCH)\",\n",
            "  \"body\": \"quia et suscipit\\nsuscipit recusandae consequuntur expedita et cum\\nreprehenderit molestiae ut ut quas totam\\nnostrum rerum est autem sunt rem eveniet architecto\"\n",
            "}\n",
            "\n",
            "--- DELETE İsteği: Bir Yazıyı Silme ---\n",
            "Durum Kodu: 200\n",
            "Dönen Yanıt (genellikle boştur):\n",
            "{}\n",
            "\n",
            "=== Demo Tamamlandı ===\n",
            "\n",
            "=== Testing All HTTP Methods ===\n",
            "✅ GET test passed\n",
            "✅ POST test passed\n",
            "✅ PUT test passed\n",
            "✅ PATCH test passed\n",
            "✅ DELETE test passed\n",
            "🎉 All HTTP methods work correctly!\n",
            "\n",
            "=== Error Handling Demo ===\n",
            "✅ Caught HTTP error as expected: 404\n",
            "Error handling works correctly!\n",
            "\n",
            "=== Advanced HTTP Features ===\n",
            "Response with custom headers: 200\n",
            "Content-Type: application/json; charset=utf-8\n",
            "✅ Advanced features demonstrated\n",
            "\n",
            "=== HTTP Metotları Özeti ===\n",
            "| Metot  | Amaç                              | Güvenli* | Idempotent** |\n",
            "|--------|-----------------------------------|----------|--------------|\n",
            "| GET    | Veri okur                         | Evet     | Evet         |\n",
            "| POST   | Yeni veri oluşturur               | Hayır    | Hayır        |\n",
            "| PUT    | Veriyi tamamen değiştirir         | Hayır    | Evet         |\n",
            "| PATCH  | Veriyi kısmen günceller           | Hayır    | Hayır        |\n",
            "| DELETE | Veriyi siler                      | Hayır    | Evet         |\n",
            "\n",
            "*Güvenli: Metot, sunucudaki durumu değiştirmez.\n",
            "**Idempotent: Aynı isteği birden çok kez tekrarlamak, ilk istekten farklı bir sonuca yol açmaz.\n"
          ]
        }
      ]
    }
  ],
  "metadata": {
    "kernelspec": {
      "display_name": ".venv",
      "language": "python",
      "name": "python3"
    },
    "language_info": {
      "codemirror_mode": {
        "name": "ipython",
        "version": 3
      },
      "file_extension": ".py",
      "mimetype": "text/x-python",
      "name": "python",
      "nbconvert_exporter": "python",
      "pygments_lexer": "ipython3",
      "version": "3.12.3"
    },
    "colab": {
      "provenance": []
    }
  },
  "nbformat": 4,
  "nbformat_minor": 5
}