{
  "cells": [
    {
      "cell_type": "markdown",
      "id": "7b51f76f",
      "metadata": {
        "id": "7b51f76f"
      },
      "source": [
        "# Python ile Nesne Yönelimli Programlama (OOP): Profesyonel Bir Başlangıç"
      ]
    },
    {
      "cell_type": "markdown",
      "id": "eb932aba",
      "metadata": {
        "id": "eb932aba"
      },
      "source": [
        "## 🚀 Bölüm 0: Proje Kurulumu (`uv` ile)"
      ]
    },
    {
      "cell_type": "markdown",
      "id": "250c1c1b",
      "metadata": {
        "id": "250c1c1b"
      },
      "source": [
        "Her profesyonel yazılım projesi, temiz ve izole bir çalışma ortamıyla başlar. Bu, projemizin bağımlılıklarının (kullandığı kütüphanelerin) diğer projelerle karışmasını engeller. Eskiden `venv` ve `pip` kullanılırdı, ancak şimdi **`uv`** adında çok daha hızlı ve modern bir aracımız var.\n",
        "[uv sitesi](https://astral.sh/uv/)\n",
        "\n",
        "**Neden `uv`?**\n",
        "* **Işık Hızında:** Paketleri kurarken ve ortamı yönetirken inanılmaz derecede hızlıdır.\n",
        "* **Hepsi Bir Arada:** Sanal ortam (`venv`) ve paket yöneticisi (`pip`) görevlerini tek bir komutta birleştirir.\n",
        "\n",
        "Bu adımları terminalinizde veya komut satırınızda çalıştırın:"
      ]
    },
    {
      "cell_type": "code",
      "execution_count": null,
      "id": "34ccf842",
      "metadata": {
        "id": "34ccf842",
        "outputId": "4f048e0f-e11e-4bd9-b9e7-7fd8081415a9",
        "colab": {
          "base_uri": "https://localhost:8080/"
        }
      },
      "outputs": [
        {
          "output_type": "stream",
          "name": "stdout",
          "text": [
            "Proje ortamı hazır! Artık kodlamaya başlayabiliriz.\n"
          ]
        }
      ],
      "source": [
        "# 1. uv'yi sisteminize kurun (sadece bir kez yapmanız yeterli):\n",
        "# macOS / Linux için:\n",
        "# curl -LsSf https://astral.sh/uv/install.sh | sh\n",
        "\n",
        "# Windows (PowerShell) için:\n",
        "# irm https://astral.sh/uv/install.ps1 | iex\n",
        "\n",
        "# 2. Proje klasörümüzü oluşturalım:\n",
        "# mkdir python_oop_kutuphane\n",
        "# cd python_oop_kutuphane\n",
        "\n",
        "# 3. uv ile sanal ortamı oluşturalım:\n",
        "# Bu komut, bulunduğunuz klasörde '.venv' adında bir sanal ortam yaratır.\n",
        "# uv venv\n",
        "\n",
        "# 4. Sanal ortamı aktive edelim:\n",
        "# macOS / Linux:\n",
        "# source .venv/bin/activate\n",
        "\n",
        "# Windows:\n",
        "# .\\.venv\\Scripts\\activate\n",
        "\n",
        "# 5. Gerekli kütüphaneleri kuralım:\n",
        "# uv pip install pydantic pytest\n",
        "# uv pip install -r requirements.txt\n",
        "\n",
        "print(\"Proje ortamı hazır! Artık kodlamaya başlayabiliriz.\")"
      ]
    },
    {
      "cell_type": "markdown",
      "id": "3373218c",
      "metadata": {
        "id": "3373218c"
      },
      "source": [
        "---"
      ]
    },
    {
      "cell_type": "markdown",
      "id": "968eca2e",
      "metadata": {
        "id": "968eca2e"
      },
      "source": [
        "## 📚 Bölüm 1: Sınıflar, Nitelikler ve Metotlar"
      ]
    },
    {
      "cell_type": "markdown",
      "id": "69bd94e1",
      "metadata": {
        "id": "69bd94e1"
      },
      "source": [
        "Projemizin temelini oluşturalım: **Kitap**. Bir `Book` sınıfı oluşturarak başlayacağız. Bu sınıf, kütüphanemizdeki her bir kitabın özelliklerini (nitelikler) ve yapabileceği eylemleri (metotlar) tanımlayan bir şablon olacak."
      ]
    },
    {
      "cell_type": "code",
      "execution_count": null,
      "id": "e927fb77",
      "metadata": {
        "id": "e927fb77"
      },
      "outputs": [],
      "source": [
        "# Bu kodu library.py adlı bir dosyaya kaydedeceğiz.\n",
        "\n",
        "class Book:\n",
        "    \"\"\"Represents a single book in our library.\"\"\"\n",
        "    def __init__(self, title: str, author: str, isbn: str):\n",
        "        self.title = title\n",
        "        self.author = author\n",
        "        self.isbn = isbn\n",
        "        self.is_borrowed = False\n",
        "\n",
        "    def borrow_book(self):\n",
        "        \"\"\"Marks the book as borrowed.\"\"\"\n",
        "        if not self.is_borrowed:\n",
        "            self.is_borrowed = True\n",
        "        else:\n",
        "            # Raise an error if already borrowed for clear feedback\n",
        "            raise ValueError(f\"'{self.title}' is already borrowed.\")\n",
        "\n",
        "    def return_book(self):\n",
        "        \"\"\"Marks the book as returned.\"\"\"\n",
        "        if self.is_borrowed:\n",
        "            self.is_borrowed = False\n",
        "        else:\n",
        "            raise ValueError(f\"'{self.title}' was not borrowed.\")\n",
        "\n",
        "    def display_info(self) -> str:\n",
        "        return f\"'{self.title}' by {self.author}\""
      ]
    },
    {
      "cell_type": "markdown",
      "id": "dabd6e4b",
      "metadata": {
        "id": "dabd6e4b"
      },
      "source": [
        "---"
      ]
    },
    {
      "cell_type": "markdown",
      "id": "589519c0",
      "metadata": {
        "id": "589519c0"
      },
      "source": [
        "## 🧪 Bölüm 2: Kodumuzu Doğrulama (`pytest` ile Unit Testing)"
      ]
    },
    {
      "cell_type": "markdown",
      "id": "166f6fdc",
      "metadata": {
        "id": "166f6fdc"
      },
      "source": [
        "Kod yazdık, peki doğru çalıştığından nasıl emin olacağız? Her değişiklik yaptığımızda manuel olarak kontrol etmek hem yorucu hem de hataya açık. İşte bu noktada **Unit Testing (Birim Test)** devreye giriyor.\n",
        "\n",
        "**`pytest`**, yazdığımız kodun en küçük birimlerinin (metotlar gibi) beklediğimiz gibi çalışıp çalışmadığını otomatik olarak kontrol eden bir araçtır. Testler, kodumuzun sigortasıdır.\n",
        "\n",
        "**Test Yazma Mantığı: Kur / Harekete Geç / Doğrula (Setup / Action / Assert)**\n",
        "1.  **Kur (Setup):** Test etmek istediğin sınıfın bir nesnesini oluştur.\n",
        "2.  **Harekete Geç (Action):** Test etmek istediğin metodu çağır.\n",
        "3.  **Doğrula (Assert):** Ortaya çıkan sonucun beklediğin gibi olup olmadığını `assert` ile kontrol et."
      ]
    },
    {
      "cell_type": "code",
      "execution_count": null,
      "id": "c5ca3bba",
      "metadata": {
        "id": "c5ca3bba"
      },
      "outputs": [],
      "source": [
        "# Bu kodu test_library.py adlı bir dosyaya kaydedeceğiz.\n",
        "\n",
        "# import pytest # Pytest'i ve test edilecek sınıfı import et\n",
        "# from library import Book\n",
        "\n",
        "def test_book_creation():\n",
        "    \"\"\"Test if a Book object is created with correct attributes.\"\"\"\n",
        "    # 1. Kur (Setup)\n",
        "    book = Book(\"The Hobbit\", \"J.R.R. Tolkien\", \"978-0345339683\")\n",
        "\n",
        "    # 3. Doğrula (Assert)\n",
        "    assert book.title == \"The Hobbit\"\n",
        "    assert book.author == \"J.R.R. Tolkien\"\n",
        "    assert book.is_borrowed == False\n",
        "\n",
        "def test_borrow_and_return_logic():\n",
        "    \"\"\"Tests the core borrowing and returning functionality.\"\"\"\n",
        "    # 1. Kur (Setup)\n",
        "    book = Book(\"Dune\", \"Frank Herbert\", \"978-0441013593\")\n",
        "\n",
        "    # 2. Harekete Geç (Action)\n",
        "    book.borrow_book()\n",
        "    # 3. Doğrula (Assert)\n",
        "    assert book.is_borrowed == True\n",
        "\n",
        "    # 2. Harekete Geç (Action)\n",
        "    book.return_book()\n",
        "    # 3. Doğrula (Assert)\n",
        "    assert book.is_borrowed == False\n",
        "\n",
        "# Terminalde 'pytest' komutunu çalıştırdığımızda bu testler otomatik olarak bulunur ve çalıştırılır.\n",
        "# Yeşil renkli 'PASSED' çıktısı, kodumuzun beklediğimiz gibi çalıştığını gösterir."
      ]
    },
    {
      "cell_type": "markdown",
      "id": "46c5e377",
      "metadata": {
        "id": "46c5e377"
      },
      "source": [
        "---"
      ]
    },
    {
      "cell_type": "markdown",
      "id": "57f8a732",
      "metadata": {
        "id": "57f8a732"
      },
      "source": [
        "## 🏛️ Bölüm 3: OOP'nin Dört Temel Taşı"
      ]
    },
    {
      "cell_type": "markdown",
      "id": "902132a9",
      "metadata": {
        "id": "902132a9"
      },
      "source": [
        "Artık sağlam bir temelimiz olduğuna göre, OOP'nin ana prensiplerini kütüphane projemize uygulayabiliriz."
      ]
    },
    {
      "cell_type": "markdown",
      "id": "29f945e7",
      "metadata": {
        "id": "29f945e7"
      },
      "source": [
        "### 3.1. Kalıtım (Inheritance) ve `super()`"
      ]
    },
    {
      "cell_type": "markdown",
      "id": "95759fe0",
      "metadata": {
        "id": "95759fe0"
      },
      "source": [
        "Kütüphanemizde sadece fiziksel kitaplar değil, `EBook` (Elektronik Kitap) ve `AudioBook` (Sesli Kitap) da olabilir. Bu sınıflar, temel `Book` sınıfının özelliklerini **miras alabilir** ve kendilerine özgü yeni özellikler ekleyebilir.\n",
        "\n",
        "`super()` fonksiyonu, alt sınıfın, miras aldığı üst sınıfın metotlarına (özellikle `__init__`'e) erişmesini sağlar."
      ]
    },
    {
      "cell_type": "code",
      "execution_count": null,
      "id": "12de51d7",
      "metadata": {
        "id": "12de51d7",
        "outputId": "1480f367-de10-499c-8917-9dbc2ba6c482",
        "colab": {
          "base_uri": "https://localhost:8080/"
        }
      },
      "outputs": [
        {
          "output_type": "stream",
          "name": "stdout",
          "text": [
            "1984 formatı: EPUB\n",
            "Becoming süresi: 780 dakika\n"
          ]
        }
      ],
      "source": [
        "# Bu sınıfları da library.py'a ekleyelim.\n",
        "\n",
        "class EBook(Book):\n",
        "    def __init__(self, title: str, author: str, isbn: str, file_format: str):\n",
        "        super().__init__(title, author, isbn)\n",
        "        self.file_format = file_format\n",
        "\n",
        "    def display_info(self) -> str:\n",
        "        return f\"{super().display_info()} [Format: {self.file_format}]\"\n",
        "\n",
        "\n",
        "class AudioBook(Book):\n",
        "    def __init__(self, title: str, author: str, isbn: str, duration_in_minutes: int):\n",
        "        super().__init__(title, author, isbn)\n",
        "        self.duration = duration_in_minutes\n",
        "\n",
        "    def display_info(self) -> str:\n",
        "        return f\"{super().display_info()} [Duration: {self.duration} mins]\"\n",
        "\n",
        "ebook = EBook(\"1984\", \"George Orwell\", \"978-0451524935\", \"EPUB\")\n",
        "audio_book = AudioBook(\"Becoming\", \"Michelle Obama\", \"978-1524763138\", 780)\n",
        "\n",
        "print(f\"{ebook.title} formatı: {ebook.file_format}\")\n",
        "print(f\"{audio_book.title} süresi: {audio_book.duration} dakika\")"
      ]
    },
    {
      "cell_type": "markdown",
      "id": "eeb15d4a",
      "metadata": {
        "id": "eeb15d4a"
      },
      "source": [
        "### 3.2. Kapsülleme (Encapsulation), Soyutlama (Abstraction) ve Kompozisyon (Composition)"
      ]
    },
    {
      "cell_type": "markdown",
      "id": "fd3e1c55",
      "metadata": {
        "id": "fd3e1c55"
      },
      "source": [
        "Şimdi tüm kitapları yönetecek bir `Library` sınıfı oluşturalım. Bu sınıf, OOP'nin diğer üç temel prensibini mükemmel bir şekilde gösterir:\n",
        "\n",
        "* **Soyutlama (Abstraction):** Kullanıcı, `add_book` metodunu çağırdığında kitapların arka planda bir listede nasıl saklandığını bilmek zorunda değildir. Karmaşıklık gizlenmiştir.\n",
        "* **Kapsülleme (Encapsulation):** Kitapların tutulduğu `_books` listesi, `_` ön eki ile \"iç kullanım için\" olarak işaretlenmiştir. Bu, dışarıdan doğrudan ve bilinçsizce müdahale edilmesini engeller. Veri ve onu işleyen metotlar bir arada tutulur.\n",
        "* **Kompozisyon (Composition):** `Library` sınıfı, `Book` nesnelerinden oluşur. Bir `Library`, `Book` *değildir*, ama `Book` nesnelerine *sahiptir* (\"has-a\" ilişkisi)."
      ]
    },
    {
      "cell_type": "code",
      "execution_count": null,
      "id": "b6f5006a",
      "metadata": {
        "id": "b6f5006a",
        "outputId": "2bc0bbc9-1bca-4d6e-a10d-53d1dc4ee64d",
        "colab": {
          "base_uri": "https://localhost:8080/"
        }
      },
      "outputs": [
        {
          "output_type": "stream",
          "name": "stdout",
          "text": [
            "City Library kütüphanesindeki toplam kitap sayısı: 2\n",
            "Bulunan kitap: 1984 by George Orwell\n"
          ]
        }
      ],
      "source": [
        "# Bu sınıfı da library.py'a ekleyelim.\n",
        "\n",
        "class Library:\n",
        "    def __init__(self, name: str):\n",
        "        self.name = name\n",
        "        # Encapsulation: Bu liste sınıfın iç detayıdır.\n",
        "        self._books = []\n",
        "\n",
        "    def add_book(self, book: Book):\n",
        "        self._books.append(book)\n",
        "\n",
        "    def find_book(self, title: str) -> Book | None:\n",
        "        for book in self._books:\n",
        "            if book.title.lower() == title.lower():\n",
        "                return book\n",
        "        return None\n",
        "\n",
        "    @property\n",
        "    def total_books(self) -> int:\n",
        "        return len(self._books)\n",
        "\n",
        "# Composition: Kütüphane, Kitap nesneleri içerir.\n",
        "my_library = Library(name=\"City Library\")\n",
        "my_library.add_book(ebook)\n",
        "my_library.add_book(audio_book)\n",
        "\n",
        "print(f\"{my_library.name} kütüphanesindeki toplam kitap sayısı: {my_library.total_books}\")\n",
        "found_book = my_library.find_book(\"1984\")\n",
        "if found_book:\n",
        "    print(f\"Bulunan kitap: {found_book.title} by {found_book.author}\")"
      ]
    },
    {
      "cell_type": "markdown",
      "id": "139be671",
      "metadata": {
        "id": "139be671"
      },
      "source": [
        "### 3.3. Çok Biçimlilik (Polymorphism)"
      ]
    },
    {
      "cell_type": "markdown",
      "id": "19445acc",
      "metadata": {
        "id": "19445acc"
      },
      "source": [
        "Çok biçimlilik, farklı sınıflara ait nesnelerin (örn. `Book`, `EBook`, `AudioBook`) aynı isimdeki bir metoda (`display_info`) farklı şekillerde cevap verebilmesidir.\n",
        "\n",
        "Önce `display_info` metodunu üst ve alt sınıflara ekleyelim:"
      ]
    },
    {
      "cell_type": "code",
      "execution_count": null,
      "id": "267f3156",
      "metadata": {
        "id": "267f3156",
        "outputId": "88008252-d129-4169-c530-64336fc303bd",
        "colab": {
          "base_uri": "https://localhost:8080/"
        }
      },
      "outputs": [
        {
          "output_type": "stream",
          "name": "stdout",
          "text": [
            "'The Lord of the Rings' by J.R.R. Tolkien\n",
            "'1984' by George Orwell [Format: EPUB]\n",
            "'Becoming' by Michelle Obama [Duration: 780 mins]\n"
          ]
        }
      ],
      "source": [
        "# Book, Ebook ve AudioBook sınıflarını kullanarak polimorfizmi gösterelim.\n",
        "# Polimorfizm: Farklı sınıflar aynı metodu farklı şekillerde uygulayabilir. Her birinde bulunan display_info metodu farklı çıktılar üretir.\n",
        "\n",
        "# Şimdi Polimorfizmi görelim:\n",
        "book_list = [\n",
        "    Book(\"The Lord of the Rings\", \"J.R.R. Tolkien\", \"978-0618640157\"),\n",
        "    EBook(\"1984\", \"George Orwell\", \"978-0451524935\", \"EPUB\"),\n",
        "    AudioBook(\"Becoming\", \"Michelle Obama\", \"978-1524763138\", 780)\n",
        "]\n",
        "\n",
        "# Aynı metodu farklı nesneler üzerinde çağırıyoruz:\n",
        "for book in book_list:\n",
        "    print(book.display_info())"
      ]
    },
    {
      "cell_type": "markdown",
      "id": "1ce13151",
      "metadata": {
        "id": "1ce13151"
      },
      "source": [
        "---"
      ]
    },
    {
      "cell_type": "markdown",
      "id": "1eaaa149",
      "metadata": {
        "id": "1eaaa149"
      },
      "source": [
        "## ✨ Bölüm 4: Modern ve Güçlü Python Teknikleri"
      ]
    },
    {
      "cell_type": "markdown",
      "id": "3f8a6a2f",
      "metadata": {
        "id": "3f8a6a2f"
      },
      "source": [
        "### 4.1. `dataclasses` ile Kod Tekrarını Azaltma"
      ]
    },
    {
      "cell_type": "markdown",
      "id": "53debd40",
      "metadata": {
        "id": "53debd40"
      },
      "source": [
        "Genellikle sadece veri tutmak için kullandığımız sınıflarda `__init__`, `__repr__` gibi metotları tekrar tekrar yazmak yorucudur. `dataclasses` bu metotları bizim için otomatik olarak oluşturur.\n",
        "\n",
        "Örneğin, bir kütüphane üyesini (`Member`) tanımlayalım:"
      ]
    },
    {
      "cell_type": "code",
      "execution_count": null,
      "id": "ed06183a",
      "metadata": {
        "id": "ed06183a",
        "outputId": "718f7b30-6c87-499d-eda3-5712f52d1000",
        "colab": {
          "base_uri": "https://localhost:8080/"
        }
      },
      "outputs": [
        {
          "output_type": "stream",
          "name": "stdout",
          "text": [
            "Member(name='Alice', member_id=101, borrowed_books=[])\n"
          ]
        }
      ],
      "source": [
        "from dataclasses import dataclass, field\n",
        "from typing import List\n",
        "\n",
        "@dataclass\n",
        "class Member:\n",
        "    name: str\n",
        "    member_id: int\n",
        "    borrowed_books: List[Book] = field(default_factory=list)\n",
        "\n",
        "# __init__ ve __repr__ otomatik olarak oluşturuldu!\n",
        "member1 = Member(name=\"Alice\", member_id=101)\n",
        "print(member1)"
      ]
    },
    {
      "cell_type": "markdown",
      "id": "a37d4ef0",
      "metadata": {
        "id": "a37d4ef0"
      },
      "source": [
        "### 4.2. `pydantic` ile Veri Doğrulama"
      ]
    },
    {
      "cell_type": "markdown",
      "id": "8b0a029f",
      "metadata": {
        "id": "8b0a029f"
      },
      "source": [
        "**Pydantic**, `dataclasses`'in bir adım ötesine geçerek **veri doğrulama (validation)** yapar. Bu, özellikle dış kaynaklardan (API, kullanıcı girişi) gelen verilerle çalışırken hayat kurtarır. Veri, belirlediğiniz kurallara uymuyorsa, Pydantic otomatik olarak anlamlı bir hata fırlatır.\n",
        "\n",
        "`Book` sınıfımızı Pydantic ile daha sağlam hale getirelim:"
      ]
    },
    {
      "cell_type": "code",
      "execution_count": null,
      "id": "6add3d8c",
      "metadata": {
        "id": "6add3d8c",
        "outputId": "d1811c33-d0e1-43aa-b6b6-65fb61fa93bd",
        "colab": {
          "base_uri": "https://localhost:8080/"
        }
      },
      "outputs": [
        {
          "output_type": "stream",
          "name": "stdout",
          "text": [
            "Geçerli kitap başarıyla oluşturuldu:\n",
            "{\n",
            "  \"title\": \"Dune\",\n",
            "  \"author\": \"Frank Herbert\",\n",
            "  \"isbn\": \"9780441013593\",\n",
            "  \"publication_year\": 1965\n",
            "}\n",
            "\n",
            "--- Geçersiz bir kitap oluşturma denemesi ---\n",
            "Doğrulama beklendiği gibi başarısız oldu:\n",
            "2 validation errors for PydanticBook\n",
            "isbn\n",
            "  String should have at least 10 characters [type=string_too_short, input_value='123', input_type=str]\n",
            "    For further information visit https://errors.pydantic.dev/2.11/v/string_too_short\n",
            "publication_year\n",
            "  Input should be greater than 1400 [type=greater_than, input_value=1300, input_type=int]\n",
            "    For further information visit https://errors.pydantic.dev/2.11/v/greater_than\n"
          ]
        }
      ],
      "source": [
        "from pydantic import BaseModel, Field, ValidationError\n",
        "\n",
        "class PydanticBook(BaseModel):\n",
        "    title: str\n",
        "    author: str\n",
        "    isbn: str = Field(..., min_length=10, max_length=13)\n",
        "    publication_year: int = Field(..., gt=1400) # 1400'den büyük olmalı\n",
        "\n",
        "\n",
        "# Geçerli bir örnek:\n",
        "try:\n",
        "    valid_book = PydanticBook(\n",
        "        title=\"Dune\",\n",
        "        author=\"Frank Herbert\",\n",
        "        isbn=\"9780441013593\",\n",
        "        publication_year=1965\n",
        "    )\n",
        "    print(\"Geçerli kitap başarıyla oluşturuldu:\")\n",
        "    print(valid_book.model_dump_json(indent=2))\n",
        "except ValidationError as e:\n",
        "    print(e)\n",
        "\n",
        "print(\"\\n--- Geçersiz bir kitap oluşturma denemesi ---\")\n",
        "# Geçersiz bir örnek:\n",
        "try:\n",
        "    invalid_book = PydanticBook(\n",
        "        title=\"Invalid Book\",\n",
        "        author=\"Bad Author\",\n",
        "        isbn=\"123\", # Çok kısa\n",
        "        publication_year=1300 # gt=1400 kuralına aykırı\n",
        "    )\n",
        "except ValidationError as e:\n",
        "    print(\"Doğrulama beklendiği gibi başarısız oldu:\")\n",
        "    print(e)"
      ]
    },
    {
      "cell_type": "markdown",
      "source": [
        "# Örnek Uygulama"
      ],
      "metadata": {
        "id": "mWf3sOFv-Zai"
      },
      "id": "mWf3sOFv-Zai"
    },
    {
      "cell_type": "code",
      "source": [
        "\"\"\"\n",
        "Python ile Nesne Yönelimli Programlama (OOP): Kütüphane Sistemi\n",
        "Bu dosya, OOP notebook'undaki tüm kod örneklerini içerir.\n",
        "Bunu library.py dosyası olarak eklemeyi unutmayınız.\n",
        "\"\"\"\n",
        "\n",
        "from dataclasses import dataclass, field\n",
        "from typing import List\n",
        "from pydantic import BaseModel, Field, ValidationError\n",
        "\n",
        "\n",
        "class Book:\n",
        "    \"\"\"Represents a single book in our library.\"\"\"\n",
        "    def __init__(self, title: str, author: str, isbn: str):\n",
        "        self.title = title\n",
        "        self.author = author\n",
        "        self.isbn = isbn\n",
        "        self.is_borrowed = False\n",
        "\n",
        "    def borrow_book(self):\n",
        "        \"\"\"Marks the book as borrowed.\"\"\"\n",
        "        if not self.is_borrowed:\n",
        "            self.is_borrowed = True\n",
        "        else:\n",
        "            # Raise an error if already borrowed for clear feedback\n",
        "            raise ValueError(f\"'{self.title}' is already borrowed.\")\n",
        "\n",
        "    def return_book(self):\n",
        "        \"\"\"Marks the book as returned.\"\"\"\n",
        "        if self.is_borrowed:\n",
        "            self.is_borrowed = False\n",
        "        else:\n",
        "            raise ValueError(f\"'{self.title}' was not borrowed.\")\n",
        "\n",
        "    def display_info(self) -> str:\n",
        "        return f\"'{self.title}' by {self.author}\"\n",
        "\n",
        "\n",
        "class EBook(Book):\n",
        "    \"\"\"Represents an electronic book that inherits from Book.\"\"\"\n",
        "    def __init__(self, title: str, author: str, isbn: str, file_format: str):\n",
        "        super().__init__(title, author, isbn)\n",
        "        self.file_format = file_format\n",
        "\n",
        "    def display_info(self) -> str:\n",
        "        return f\"{super().display_info()} [Format: {self.file_format}]\"\n",
        "\n",
        "\n",
        "class AudioBook(Book):\n",
        "    \"\"\"Represents an audio book that inherits from Book.\"\"\"\n",
        "    def __init__(self, title: str, author: str, isbn: str, duration_in_minutes: int):\n",
        "        super().__init__(title, author, isbn)\n",
        "        self.duration = duration_in_minutes\n",
        "\n",
        "    def display_info(self) -> str:\n",
        "        return f\"{super().display_info()} [Duration: {self.duration} mins]\"\n",
        "\n",
        "\n",
        "class Library:\n",
        "    \"\"\"Manages a collection of books using composition.\"\"\"\n",
        "    def __init__(self, name: str):\n",
        "        self.name = name\n",
        "        # Encapsulation: Bu liste sınıfın iç detayıdır.\n",
        "        self._books = []\n",
        "\n",
        "    def add_book(self, book: Book):\n",
        "        self._books.append(book)\n",
        "\n",
        "    def find_book(self, title: str) -> Book | None:\n",
        "        for book in self._books:\n",
        "            if book.title.lower() == title.lower():\n",
        "                return book\n",
        "        return None\n",
        "\n",
        "    @property\n",
        "    def total_books(self) -> int:\n",
        "        return len(self._books)\n",
        "\n",
        "\n",
        "@dataclass\n",
        "class Member:\n",
        "    \"\"\"Represents a library member using dataclasses.\"\"\"\n",
        "    name: str\n",
        "    member_id: int\n",
        "    borrowed_books: List[Book] = field(default_factory=list)\n",
        "\n",
        "\n",
        "class PydanticBook(BaseModel):\n",
        "    \"\"\"Book model with Pydantic validation.\"\"\"\n",
        "    title: str\n",
        "    author: str\n",
        "    isbn: str = Field(..., min_length=10, max_length=13)\n",
        "    publication_year: int = Field(..., gt=1400)  # 1400'den büyük olmalı\n",
        "\n",
        "\n",
        "def main():\n",
        "    \"\"\"Demo function to show the library system in action.\"\"\"\n",
        "    print(\"=== Kütüphane Sistemi Demo ===\\n\")\n",
        "\n",
        "    # Create different types of books\n",
        "    ebook = EBook(\"1984\", \"George Orwell\", \"978-0451524935\", \"EPUB\")\n",
        "    audio_book = AudioBook(\"Becoming\", \"Michelle Obama\", \"978-1524763138\", 780)\n",
        "    regular_book = Book(\"The Lord of the Rings\", \"J.R.R. Tolkien\", \"978-0618640157\")\n",
        "\n",
        "    print(f\"{ebook.title} formatı: {ebook.file_format}\")\n",
        "    print(f\"{audio_book.title} süresi: {audio_book.duration} dakika\\n\")\n",
        "\n",
        "    # Create library and add books (Composition)\n",
        "    my_library = Library(name=\"City Library\")\n",
        "    my_library.add_book(ebook)\n",
        "    my_library.add_book(audio_book)\n",
        "    my_library.add_book(regular_book)\n",
        "\n",
        "    print(f\"{my_library.name} kütüphanesindeki toplam kitap sayısı: {my_library.total_books}\")\n",
        "\n",
        "    # Find a book\n",
        "    found_book = my_library.find_book(\"1984\")\n",
        "    if found_book:\n",
        "        print(f\"Bulunan kitap: {found_book.title} by {found_book.author}\\n\")\n",
        "\n",
        "    # Demonstrate Polymorphism\n",
        "    print(\"=== Polimorfizm Örneği ===\")\n",
        "    book_list = [regular_book, ebook, audio_book]\n",
        "\n",
        "    for book in book_list:\n",
        "        print(book.display_info())\n",
        "\n",
        "    print(\"\\n=== Dataclass Örneği ===\")\n",
        "    # Create a member using dataclasses\n",
        "    member1 = Member(name=\"Alice\", member_id=101)\n",
        "    print(member1)\n",
        "\n",
        "    print(\"\\n=== Pydantic Doğrulama Örneği ===\")\n",
        "    # Pydantic validation example\n",
        "    try:\n",
        "        valid_book = PydanticBook(\n",
        "            title=\"Dune\",\n",
        "            author=\"Frank Herbert\",\n",
        "            isbn=\"9780441013593\",\n",
        "            publication_year=1965\n",
        "        )\n",
        "        print(\"Geçerli kitap başarıyla oluşturuldu:\")\n",
        "        print(valid_book.model_dump_json(indent=2))\n",
        "    except ValidationError as e:\n",
        "        print(e)\n",
        "\n",
        "    print(\"\\n--- Geçersiz bir kitap oluşturma denemesi ---\")\n",
        "    try:\n",
        "        invalid_book = PydanticBook(\n",
        "            title=\"Invalid Book\",\n",
        "            author=\"Bad Author\",\n",
        "            isbn=\"123\",  # Çok kısa\n",
        "            publication_year=1300  # gt=1400 kuralına aykırı\n",
        "        )\n",
        "    except ValidationError as e:\n",
        "        print(\"Doğrulama beklendiği gibi başarısız oldu:\")\n",
        "        print(e)\n",
        "\n",
        "\n",
        "if __name__ == \"__main__\":\n",
        "    main()"
      ],
      "metadata": {
        "colab": {
          "base_uri": "https://localhost:8080/"
        },
        "id": "Z7Iws9FT-b7N",
        "outputId": "cde16a00-2463-4c80-a57d-b018e64656f6"
      },
      "id": "Z7Iws9FT-b7N",
      "execution_count": null,
      "outputs": [
        {
          "output_type": "stream",
          "name": "stdout",
          "text": [
            "=== Kütüphane Sistemi Demo ===\n",
            "\n",
            "1984 formatı: EPUB\n",
            "Becoming süresi: 780 dakika\n",
            "\n",
            "City Library kütüphanesindeki toplam kitap sayısı: 3\n",
            "Bulunan kitap: 1984 by George Orwell\n",
            "\n",
            "=== Polimorfizm Örneği ===\n",
            "'The Lord of the Rings' by J.R.R. Tolkien\n",
            "'1984' by George Orwell [Format: EPUB]\n",
            "'Becoming' by Michelle Obama [Duration: 780 mins]\n",
            "\n",
            "=== Dataclass Örneği ===\n",
            "Member(name='Alice', member_id=101, borrowed_books=[])\n",
            "\n",
            "=== Pydantic Doğrulama Örneği ===\n",
            "Geçerli kitap başarıyla oluşturuldu:\n",
            "{\n",
            "  \"title\": \"Dune\",\n",
            "  \"author\": \"Frank Herbert\",\n",
            "  \"isbn\": \"9780441013593\",\n",
            "  \"publication_year\": 1965\n",
            "}\n",
            "\n",
            "--- Geçersiz bir kitap oluşturma denemesi ---\n",
            "Doğrulama beklendiği gibi başarısız oldu:\n",
            "2 validation errors for PydanticBook\n",
            "isbn\n",
            "  String should have at least 10 characters [type=string_too_short, input_value='123', input_type=str]\n",
            "    For further information visit https://errors.pydantic.dev/2.11/v/string_too_short\n",
            "publication_year\n",
            "  Input should be greater than 1400 [type=greater_than, input_value=1300, input_type=int]\n",
            "    For further information visit https://errors.pydantic.dev/2.11/v/greater_than\n"
          ]
        }
      ]
    }
  ],
  "metadata": {
    "kernelspec": {
      "display_name": ".venv",
      "language": "python",
      "name": "python3"
    },
    "language_info": {
      "codemirror_mode": {
        "name": "ipython",
        "version": 3
      },
      "file_extension": ".py",
      "mimetype": "text/x-python",
      "name": "python",
      "nbconvert_exporter": "python",
      "pygments_lexer": "ipython3",
      "version": "3.12.3"
    },
    "colab": {
      "provenance": []
    }
  },
  "nbformat": 4,
  "nbformat_minor": 5
}